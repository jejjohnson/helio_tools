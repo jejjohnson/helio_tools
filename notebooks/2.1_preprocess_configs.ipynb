{
 "cells": [
  {
   "cell_type": "markdown",
   "id": "9c9b2b91-e7d0-4ca4-800b-e617e8823eec",
   "metadata": {},
   "source": [
    "# Demo: Configs"
   ]
  },
  {
   "cell_type": "code",
   "execution_count": 1,
   "id": "87b0d7f7-66aa-4d00-a595-ea34e4fd9b29",
   "metadata": {
    "tags": []
   },
   "outputs": [],
   "source": [
    "import autoroot\n",
    "from typing import Optional, Callable\n",
    "import toolz \n",
    "import functools as ft\n",
    "import numpy as np\n",
    "import matplotlib.pyplot as plt\n",
    "import seaborn as sns\n",
    "import tqdm.auto as tqdm\n",
    "\n",
    "sns.reset_defaults()\n",
    "sns.set_context(context=\"talk\", font_scale=0.7)\n",
    "\n",
    "%matplotlib inline\n",
    "%load_ext autoreload\n",
    "%autoreload 2"
   ]
  },
  {
   "cell_type": "code",
   "execution_count": 2,
   "id": "d3020752-6a78-4dae-a5e3-8c67e0820a6a",
   "metadata": {
    "tags": []
   },
   "outputs": [],
   "source": [
    "import astropy\n",
    "from datetime import timedelta, datetime\n",
    "from sunpy.map import Map"
   ]
  },
  {
   "cell_type": "code",
   "execution_count": 3,
   "id": "75da6dba-57a3-47ee-bb60-8c81e1524549",
   "metadata": {
    "tags": []
   },
   "outputs": [
    {
     "name": "stdout",
     "output_type": "stream",
     "text": [
      "2695\n"
     ]
    }
   ],
   "source": [
    "from helio_tools._src.utils.io import get_list_filenames\n",
    "\n",
    "base_path = \"/home/juanjohn/data/helio/sdo\"\n",
    "ext = \".fits\"\n",
    "\n",
    "data_filenames = get_list_filenames(base_path, ext)\n",
    "print(len(data_filenames))\n",
    "\n"
   ]
  },
  {
   "cell_type": "markdown",
   "id": "1877c80d-dfee-4952-b262-f0d26dec13f7",
   "metadata": {},
   "source": [
    "## Preprocessing"
   ]
  },
  {
   "cell_type": "markdown",
   "id": "38adc369-d21d-4bfc-836e-331b1f696c45",
   "metadata": {},
   "source": [
    "```python\n",
    "train_months = list(range(2, 10))\n",
    "sdo_dataset = AIADataset(sdo_path, wavelength=304, months=train_months)\n",
    "sdo_dataset = StorageDataset(sdo_dataset,\n",
    "                             sdo_converted_path,\n",
    "                             ext_editors=[RandomPatchEditor((256, 256))])\n",
    "\n",
    "\n",
    "# ======================\n",
    "\n",
    "class AIADataset(BaseDataset):\n",
    "    def __init__(self, data, wavelength, resolution=2048, ext='.fits', calibration='auto', **kwargs):\n",
    "        norm = sdo_norms[wavelength]\n",
    "        editors = [LoadMapEditor(),\n",
    "                   NormalizeRadiusEditor(resolution),\n",
    "                   AIAPrepEditor(calibration=calibration),\n",
    "                   MapToDataEditor(),\n",
    "                   NormalizeEditor(norm),\n",
    "                   ReshapeEditor((1, resolution, resolution))]\n",
    "        super().__init__(data, editors=editors, ext=ext, **kwargs)\n",
    "```\n"
   ]
  },
  {
   "cell_type": "markdown",
   "id": "e877c69a-5a4a-423b-995f-5f83b9646b9a",
   "metadata": {},
   "source": [
    "### Preprocessing Steps\n",
    "\n",
    "1) **Filter Files for Wavelength**.\n",
    "\n",
    "First, we will filter the files for the wavelength `304`. \n",
    "We will also only take a demo file for this demonstration.\n",
    "\n",
    "2) **`.fits` file to `Map`**\n",
    "\n",
    "\n",
    "Next, we will load the `.fits` file to a `sunpy.map.Map` object. \n",
    "This is a very convenient object to work with because `.fits` files are very unintuitive for the inexperienced. \n",
    "So we will use this higher order wrapper instead of dealing directly with `.fits` files.\n",
    "\n",
    "See the [sunpy.map](https://docs.sunpy.org/en/stable/reference/map.html) docs for more details.\n",
    "\n",
    "3) **Normalized Radius**\n",
    "\n",
    "Next, we will normalized the radius by some resolution. \n",
    "We also have the option to crop the edge bits that we don't want within the image.\n",
    "\n",
    "\n",
    "4) **Correct Degregation**\n",
    "\n",
    "\n",
    "5) **`Map` to `ndarray`\n",
    "\n",
    "Now, we will change the data structure to a numpy.ndarray.\n",
    "This is more convenient for some functionality, e.g., normalization. \n",
    "However, it is completely optional\n",
    "\n",
    "6) **Normalize**\n",
    "\n",
    "We will use some predefined normalization schemes found [here](https://github.com/spaceml-org/MDRAIT_ITI/blob/master/iti/data/editor.py#L60). \n",
    "We will define it here manually for more clarity.\n",
    "\n",
    "\n",
    "7) **Channel Dimension**\n",
    "\n",
    "We would like to save our new image to be \"ML-Ready\". \n",
    "However, we need to save it in an image-like format.\n",
    "We are using the `numpy` convention so we'll save it as: \n",
    "\n",
    "`Height x Width x Channel`"
   ]
  },
  {
   "cell_type": "markdown",
   "id": "58a6625e-8243-4206-a788-f119aef85843",
   "metadata": {},
   "source": [
    "We can directly plot the image along with the distribution of pixels and the associated meta-data."
   ]
  },
  {
   "cell_type": "markdown",
   "id": "83720a6d-6f1d-444d-96e7-9d00e3f9537e",
   "metadata": {},
   "source": [
    "## Configurations"
   ]
  },
  {
   "cell_type": "code",
   "execution_count": 5,
   "id": "69cc1a6c-c23c-4d88-addd-b2304718f0e1",
   "metadata": {
    "tags": []
   },
   "outputs": [],
   "source": [
    "from helio_tools._src.editors.load import load_fits_to_map\n",
    "from helio_tools._src.editors.scale import normalize_radius, normalize_fn\n",
    "from helio_tools._src.editors.calibration import correct_degregation\n",
    "from helio_tools._src.editors.datastructure import map_to_ndarray\n",
    "from astropy.visualization import ImageNormalize, LinearStretch, AsinhStretch\n",
    "from einops import rearrange\n",
    "import hydra_zen\n",
    "from toolz import compose_left, partial, pipe"
   ]
  },
  {
   "cell_type": "code",
   "execution_count": 6,
   "id": "f3795a52-6cef-4cfa-9166-98856f4b0595",
   "metadata": {
    "tags": []
   },
   "outputs": [],
   "source": [
    "# from dataclasses import asdict\n",
    "\n",
    "init_partial_fn = hydra_zen.make_custom_builds_fn(zen_partial=True)\n",
    "init_fn = hydra_zen.make_custom_builds_fn(zen_partial=False)\n",
    "\n",
    "\n",
    "\n",
    "def from_recipe(rec):\n",
    "    return init_partial_fn(toolz.apply, init_fn(zen_compose, asdict(rec)))\n",
    "\n",
    "def from_recipe_and_inp(rec, inp):\n",
    "    return init_partial_fn(toolz.apply, init_fn(zen_compose, asdict(rec)), inp)"
   ]
  },
  {
   "cell_type": "code",
   "execution_count": 7,
   "id": "81010c31-d784-4182-b3d4-f77d4a7d8808",
   "metadata": {
    "tags": []
   },
   "outputs": [],
   "source": [
    "# store = hydra_zen.ZenStore(\n",
    "#     name=\"iti\",\n",
    "#     deferred_to_config=True,\n",
    "#     deferred_hydra_store=True,\n",
    "#     overwrite_ok=True,\n",
    "# )\n",
    "\n",
    "# recipe_store = store(group='iti/recipes', package='iti.recipe')"
   ]
  },
  {
   "cell_type": "code",
   "execution_count": 8,
   "id": "77a4a780-1310-42fc-a33a-941d33675676",
   "metadata": {
    "tags": []
   },
   "outputs": [],
   "source": [
    "resolution = 2048\n",
    "\n",
    "base_prepro = hydra_zen.make_config(\n",
    "    zen_dataclass={'cls_name': 'pre_process'},\n",
    "    # 0 - get a filename\n",
    "    _0=init_partial_fn(toolz.identity),\n",
    "    # 1 - load fits file to a sunpy Map object\n",
    "    _1=init_partial_fn(load_fits_to_map),\n",
    "    # 2 - normalize radius via some resolution\n",
    "    _2=init_partial_fn(normalize_radius, resolution=resolution, crop = True, padding_factor = 0.1),\n",
    "    # 3 - correct degregation\n",
    "    _3=init_partial_fn(correct_degregation, method = \"auto\"),\n",
    "    # 4 - sunpy.map.Map --> numpy.ndarray\n",
    "    _4=init_partial_fn(map_to_ndarray),\n",
    "    # 5 - Normalize\n",
    "    _5=init_partial_fn(\n",
    "        normalize_fn, fn=init_fn(ImageNormalize, vmin=0, vmax=8_800, clip=True, stretch=init_fn(AsinhStretch, a=0.001))),\n",
    "    # 6 - Reshape (Add batch dimension (?))\n",
    "    _6=init_partial_fn(\n",
    "        rearrange, pattern='H W -> H W 1', H=resolution, W=resolution)\n",
    ")\n"
   ]
  },
  {
   "cell_type": "markdown",
   "id": "3f49738e-a36b-4b48-9408-8d245bdcf82f",
   "metadata": {},
   "source": [
    "We can print the file here so that we can see what it looks like and we can imagine a `.yaml` file with the configuration."
   ]
  },
  {
   "cell_type": "code",
   "execution_count": 9,
   "id": "e5f4235e-06bc-4b68-9165-519c7a2c7c72",
   "metadata": {},
   "outputs": [
    {
     "name": "stdout",
     "output_type": "stream",
     "text": [
      "_0:\n",
      "  _partial_: true\n",
      "  _target_: toolz.functoolz.identity\n",
      "_1:\n",
      "  _partial_: true\n",
      "  _target_: helio_tools._src.editors.load.load_fits_to_map\n",
      "_2:\n",
      "  _partial_: true\n",
      "  _target_: helio_tools._src.editors.scale.normalize_radius\n",
      "  crop: true\n",
      "  padding_factor: 0.1\n",
      "  resolution: 2048\n",
      "_3:\n",
      "  _partial_: true\n",
      "  _target_: helio_tools._src.editors.calibration.correct_degregation\n",
      "  method: auto\n",
      "_4:\n",
      "  _partial_: true\n",
      "  _target_: helio_tools._src.editors.datastructure.map_to_ndarray\n",
      "_5:\n",
      "  _partial_: true\n",
      "  _target_: helio_tools._src.editors.scale.normalize_fn\n",
      "  fn:\n",
      "    _partial_: false\n",
      "    _target_: astropy.visualization.mpl_normalize.ImageNormalize\n",
      "    clip: true\n",
      "    stretch:\n",
      "      _partial_: false\n",
      "      _target_: astropy.visualization.stretch.AsinhStretch\n",
      "      a: 0.001\n",
      "    vmax: 8800\n",
      "    vmin: 0\n",
      "_6:\n",
      "  H: 2048\n",
      "  W: 2048\n",
      "  _partial_: true\n",
      "  _target_: einops.einops.rearrange\n",
      "  pattern: H W -> H W 1\n",
      "\n"
     ]
    }
   ],
   "source": [
    "p_yaml = lambda cfg: print(hydra_zen.to_yaml(cfg, sort_keys=True))\n",
    "\n",
    "# print yaml file\n",
    "p_yaml(base_prepro)"
   ]
  },
  {
   "cell_type": "markdown",
   "id": "8d6a3dc4-b0f7-4daa-809c-2fb9e2a6f2e0",
   "metadata": {},
   "source": [
    "### Saving Configs\n",
    "\n",
    "Now, let's save the config file to a `.yaml` file."
   ]
  },
  {
   "cell_type": "code",
   "execution_count": 10,
   "id": "fedc8f84-0f7a-44de-b50f-4efdc5cc348f",
   "metadata": {},
   "outputs": [],
   "source": [
    "from hydra_zen import save_as_yaml"
   ]
  },
  {
   "cell_type": "code",
   "execution_count": 11,
   "id": "18ec7865-c17a-4a77-8087-5497e84ff7ad",
   "metadata": {},
   "outputs": [],
   "source": [
    "# save to a yaml file\n",
    "config_path = \"./sdo_config.yaml\"\n",
    "save_as_yaml(base_prepro, f=config_path)"
   ]
  },
  {
   "cell_type": "markdown",
   "id": "7e2503d1-a342-4600-8617-cc98b4811877",
   "metadata": {},
   "source": [
    "### Loading Configs"
   ]
  },
  {
   "cell_type": "code",
   "execution_count": 12,
   "id": "d1a3c636-8601-4cf7-8bd6-53d3bd1e3141",
   "metadata": {
    "tags": []
   },
   "outputs": [],
   "source": [
    "# initialize config\n",
    "config = hydra_zen.load_from_yaml(config_path)\n",
    "\n",
    "# load config\n",
    "fn_asdicts = hydra_zen.instantiate(config)"
   ]
  },
  {
   "cell_type": "markdown",
   "id": "aa0fd394-5614-44c7-b1a1-dd3cbc799d91",
   "metadata": {},
   "source": [
    "#### Apply as pipeline"
   ]
  },
  {
   "cell_type": "code",
   "execution_count": 13,
   "id": "84a52f8c-a2b4-4ac4-90ca-998742ca4490",
   "metadata": {},
   "outputs": [],
   "source": [
    "def zen_compose(d):\n",
    "    return toolz.compose_left(*(d[k] for k in sorted(d)))"
   ]
  },
  {
   "cell_type": "code",
   "execution_count": 14,
   "id": "f86d61fb-09c8-47ad-8777-a4d8658d9a14",
   "metadata": {},
   "outputs": [],
   "source": [
    "# create function from composition\n",
    "fn = zen_compose(fn_asdicts)"
   ]
  },
  {
   "cell_type": "code",
   "execution_count": 17,
   "id": "616a3902-13ea-45dc-8d69-362ea6e54e2c",
   "metadata": {
    "tags": []
   },
   "outputs": [
    {
     "data": {
      "text/plain": [
       "(2048, 2048, 1)"
      ]
     },
     "execution_count": 17,
     "metadata": {},
     "output_type": "execute_result"
    }
   ],
   "source": [
    "# run function!\n",
    "out = fn(data_filenames[0])\n",
    "\n",
    "out.shape"
   ]
  },
  {
   "cell_type": "code",
   "execution_count": null,
   "id": "aff750f7-f765-423d-9dc1-599edfd842f2",
   "metadata": {},
   "outputs": [],
   "source": []
  },
  {
   "cell_type": "code",
   "execution_count": null,
   "id": "150598c0-4252-4e99-abc7-ed4d12475f13",
   "metadata": {},
   "outputs": [],
   "source": []
  }
 ],
 "metadata": {
  "kernelspec": {
   "display_name": "Python [conda env:helio_tools]",
   "language": "python",
   "name": "conda-env-helio_tools-py"
  },
  "language_info": {
   "codemirror_mode": {
    "name": "ipython",
    "version": 3
   },
   "file_extension": ".py",
   "mimetype": "text/x-python",
   "name": "python",
   "nbconvert_exporter": "python",
   "pygments_lexer": "ipython3",
   "version": "3.11.6"
  }
 },
 "nbformat": 4,
 "nbformat_minor": 5
}
