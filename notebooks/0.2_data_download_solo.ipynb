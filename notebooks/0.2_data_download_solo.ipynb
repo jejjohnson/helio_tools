{
 "cells": [
  {
   "cell_type": "markdown",
   "id": "9c9b2b91-e7d0-4ca4-800b-e617e8823eec",
   "metadata": {},
   "source": [
    "# Demo: Data Download SOLO\n"
   ]
  },
  {
   "cell_type": "code",
   "execution_count": 2,
   "id": "87b0d7f7-66aa-4d00-a595-ea34e4fd9b29",
   "metadata": {
    "tags": []
   },
   "outputs": [],
   "source": [
    "import autoroot\n",
    "from typing import Optional, Callable\n",
    "import toolz \n",
    "import functools as ft\n",
    "\n",
    "import numpy as np\n",
    "import pandas as pd\n",
    "import matplotlib.pyplot as plt\n",
    "from loguru import logger\n",
    "%matplotlib inline\n",
    "%load_ext autoreload\n",
    "%autoreload 2"
   ]
  },
  {
   "cell_type": "code",
   "execution_count": 3,
   "id": "d3020752-6a78-4dae-a5e3-8c67e0820a6a",
   "metadata": {
    "tags": []
   },
   "outputs": [],
   "source": [
    "import astropy\n",
    "from datetime import timedelta, datetime\n",
    "from dateutil.relativedelta import relativedelta\n",
    "from sunpy.map import Map\n",
    "from sunpy.net import Fido, attrs as a\n"
   ]
  },
  {
   "cell_type": "code",
   "execution_count": 4,
   "id": "6f298f26-33c5-4f99-a06a-5e3568e2ebb4",
   "metadata": {
    "tags": []
   },
   "outputs": [],
   "source": [
    "from helio_tools._src.data.solo.base import SOLODownloader, download_solo_data"
   ]
  },
  {
   "cell_type": "code",
   "execution_count": 21,
   "metadata": {},
   "outputs": [
    {
     "name": "stderr",
     "output_type": "stream",
     "text": [
      "\u001b[32m2023-12-08 19:43:52.596\u001b[0m | \u001b[1mINFO    \u001b[0m | \u001b[36m__main__\u001b[0m:\u001b[36m<module>\u001b[0m:\u001b[36m10\u001b[0m - \u001b[1mPeriod: 2021-02-22 00:00 --- 2021-03-25 00:00\u001b[0m\n"
     ]
    }
   ],
   "source": [
    "import os\n",
    "\n",
    "# make base path a data folder in this repo\n",
    "base_path = os.getcwd() + \"/solo_data\"\n",
    "\n",
    "start_date = \"2021-02-22 00:00\"\n",
    "end_date = \"2021-03-25 00:00\"\n",
    "\n",
    "\n",
    "logger.info(f\"Period: {start_date} --- {end_date}\")"
   ]
  },
  {
   "cell_type": "code",
   "execution_count": 22,
   "metadata": {},
   "outputs": [
    {
     "name": "stderr",
     "output_type": "stream",
     "text": [
      "\u001b[32m2023-12-08 19:43:54.382\u001b[0m | \u001b[1mINFO    \u001b[0m | \u001b[36mhelio_tools._src.data.solo.base\u001b[0m:\u001b[36mdownload_solo_data\u001b[0m:\u001b[36m197\u001b[0m - \u001b[1mPeriod: 2021-02-22 00:00:00 --- 2021-03-25 00:00:00\u001b[0m\n",
      "\u001b[32m2023-12-08 19:43:54.383\u001b[0m | \u001b[1mINFO    \u001b[0m | \u001b[36mhelio_tools._src.data.solo.base\u001b[0m:\u001b[36mdownload_solo_data\u001b[0m:\u001b[36m203\u001b[0m - \u001b[1mBasePath: /home/juanjohn/projects/helio_tools/notebooks/solo_data\u001b[0m\n",
      "\u001b[32m2023-12-08 19:43:54.384\u001b[0m | \u001b[1mINFO    \u001b[0m | \u001b[36mhelio_tools._src.data.solo.base\u001b[0m:\u001b[36mdownload_solo_data\u001b[0m:\u001b[36m206\u001b[0m - \u001b[1mNumber of Months: 1\u001b[0m\n",
      "\u001b[32m2023-12-08 19:43:54.384\u001b[0m | \u001b[1mINFO    \u001b[0m | \u001b[36mhelio_tools._src.data.solo.base\u001b[0m:\u001b[36mdownload_solo_data\u001b[0m:\u001b[36m208\u001b[0m - \u001b[1mNumber of Month Dates: 1\u001b[0m\n",
      "Date: 2021-02-22 00:00:00:   0%|          | 0/1 [00:00<?, ?it/s]"
     ]
    },
    {
     "name": "stderr",
     "output_type": "stream",
     "text": [
      "Date: 2021-02-22 00:00:00:   0%|          | 0/1 [01:00<?, ?it/s]\n"
     ]
    },
    {
     "ename": "HTTPError",
     "evalue": "408 Client Error:  for url: http://soar.esac.esa.int/soar-sl-tap/tap/sync?REQUEST=doQuery&LANG=ADQL&FORMAT=json&QUERY=SELECT+*+FROM+v_sc_data_item+WHERE+begin_time%3E='2021-02-22+00:00:00'+AND+begin_time%3C='2021-02-23+00:00:00'+AND+instrument='EUI'+AND+descriptor='eui-fsi174-image'+AND+level='L2'",
     "output_type": "error",
     "traceback": [
      "\u001b[0;31m---------------------------------------------------------------------------\u001b[0m",
      "\u001b[0;31mHTTPError\u001b[0m                                 Traceback (most recent call last)",
      "\u001b[1;32m/home/juanjohn/projects/helio_tools/notebooks/0.2_data_download_solo.ipynb Cell 6\u001b[0m line \u001b[0;36m1\n\u001b[0;32m----> <a href='vscode-notebook-cell://ssh-remote%2Bstream_ucm/home/juanjohn/projects/helio_tools/notebooks/0.2_data_download_solo.ipynb#W5sdnNjb2RlLXJlbW90ZQ%3D%3D?line=0'>1</a>\u001b[0m download_solo_data(start_date\u001b[39m=\u001b[39;49mstart_date, end_date\u001b[39m=\u001b[39;49mend_date, base_path\u001b[39m=\u001b[39;49mbase_path)\n",
      "File \u001b[0;32m~/projects/helio_tools/helio_tools/_src/data/solo/base.py:214\u001b[0m, in \u001b[0;36mdownload_solo_data\u001b[0;34m(start_date, end_date, base_path)\u001b[0m\n\u001b[1;32m    212\u001b[0m \u001b[39mfor\u001b[39;00m idate \u001b[39min\u001b[39;00m pbar:\n\u001b[1;32m    213\u001b[0m     pbar\u001b[39m.\u001b[39mset_description(\u001b[39mf\u001b[39m\u001b[39m\"\u001b[39m\u001b[39mDate: \u001b[39m\u001b[39m{\u001b[39;00midate\u001b[39m}\u001b[39;00m\u001b[39m\"\u001b[39m)\n\u001b[0;32m--> 214\u001b[0m     search \u001b[39m=\u001b[39m Fido\u001b[39m.\u001b[39;49msearch(\n\u001b[1;32m    215\u001b[0m         a\u001b[39m.\u001b[39;49mTime(idate, idate \u001b[39m+\u001b[39;49m relativedelta(days\u001b[39m=\u001b[39;49m\u001b[39m1\u001b[39;49m)),\n\u001b[1;32m    216\u001b[0m         a\u001b[39m.\u001b[39;49mInstrument(\u001b[39m\"\u001b[39;49m\u001b[39mEUI\u001b[39;49m\u001b[39m\"\u001b[39;49m),\n\u001b[1;32m    217\u001b[0m         a\u001b[39m.\u001b[39;49msoar\u001b[39m.\u001b[39;49mProduct(\u001b[39m\"\u001b[39;49m\u001b[39meui-fsi174-image\u001b[39;49m\u001b[39m\"\u001b[39;49m),\n\u001b[1;32m    218\u001b[0m         a\u001b[39m.\u001b[39;49mLevel(\u001b[39m2\u001b[39;49m),\n\u001b[1;32m    219\u001b[0m     )\n\u001b[1;32m    220\u001b[0m     \u001b[39mif\u001b[39;00m search\u001b[39m.\u001b[39mfile_num \u001b[39m==\u001b[39m \u001b[39m0\u001b[39m:\n\u001b[1;32m    221\u001b[0m         \u001b[39mcontinue\u001b[39;00m\n",
      "File \u001b[0;32m~/miniconda/envs/helio_tools/lib/python3.10/site-packages/sunpy/net/fido_factory.py:314\u001b[0m, in \u001b[0;36mUnifiedDownloaderFactory.search\u001b[0;34m(self, *query)\u001b[0m\n\u001b[1;32m    268\u001b[0m \u001b[39m\u001b[39m\u001b[39m\"\"\"\u001b[39;00m\n\u001b[1;32m    269\u001b[0m \u001b[39mQuery for data in form of multiple parameters.\u001b[39;00m\n\u001b[1;32m    270\u001b[0m \n\u001b[0;32m   (...)\u001b[0m\n\u001b[1;32m    311\u001b[0m \u001b[39mparts individually.\u001b[39;00m\n\u001b[1;32m    312\u001b[0m \u001b[39m\"\"\"\u001b[39;00m\n\u001b[1;32m    313\u001b[0m query \u001b[39m=\u001b[39m attr\u001b[39m.\u001b[39mand_(\u001b[39m*\u001b[39mquery)\n\u001b[0;32m--> 314\u001b[0m results \u001b[39m=\u001b[39m query_walker\u001b[39m.\u001b[39;49mcreate(query, \u001b[39mself\u001b[39;49m)\n\u001b[1;32m    316\u001b[0m \u001b[39m# If we have searched the VSO but no results were returned, but another\u001b[39;00m\n\u001b[1;32m    317\u001b[0m \u001b[39m# client generated results, we drop the empty VSO results for tidiness.\u001b[39;00m\n\u001b[1;32m    318\u001b[0m \u001b[39m# This is because the VSO _can_handle_query is very broad because we\u001b[39;00m\n\u001b[1;32m    319\u001b[0m \u001b[39m# don't know the full list of supported values we can search for (yet).\u001b[39;00m\n\u001b[1;32m    320\u001b[0m results \u001b[39m=\u001b[39m [r \u001b[39mfor\u001b[39;00m r \u001b[39min\u001b[39;00m results \u001b[39mif\u001b[39;00m \u001b[39mnot\u001b[39;00m \u001b[39misinstance\u001b[39m(r, vso\u001b[39m.\u001b[39mVSOQueryResponseTable) \u001b[39mor\u001b[39;00m \u001b[39mlen\u001b[39m(r) \u001b[39m>\u001b[39m \u001b[39m0\u001b[39m]\n",
      "File \u001b[0;32m~/miniconda/envs/helio_tools/lib/python3.10/site-packages/sunpy/net/attr.py:613\u001b[0m, in \u001b[0;36mAttrWalker.create\u001b[0;34m(self, *args, **kwargs)\u001b[0m\n\u001b[1;32m    609\u001b[0m \u001b[39mdef\u001b[39;00m \u001b[39mcreate\u001b[39m(\u001b[39mself\u001b[39m, \u001b[39m*\u001b[39margs, \u001b[39m*\u001b[39m\u001b[39m*\u001b[39mkwargs):\n\u001b[1;32m    610\u001b[0m \u001b[39m    \u001b[39m\u001b[39m\"\"\"\u001b[39;00m\n\u001b[1;32m    611\u001b[0m \u001b[39m    Call the create function(s) matching the arguments to this method.\u001b[39;00m\n\u001b[1;32m    612\u001b[0m \u001b[39m    \"\"\"\u001b[39;00m\n\u001b[0;32m--> 613\u001b[0m     \u001b[39mreturn\u001b[39;00m \u001b[39mself\u001b[39;49m\u001b[39m.\u001b[39;49mcreatemm(\u001b[39mself\u001b[39;49m, \u001b[39m*\u001b[39;49margs, \u001b[39m*\u001b[39;49m\u001b[39m*\u001b[39;49mkwargs)\n",
      "File \u001b[0;32m~/miniconda/envs/helio_tools/lib/python3.10/site-packages/sunpy/util/functools.py:18\u001b[0m, in \u001b[0;36mseconddispatch.<locals>.wrapper\u001b[0;34m(*args, **kwargs)\u001b[0m\n\u001b[1;32m     17\u001b[0m \u001b[39mdef\u001b[39;00m \u001b[39mwrapper\u001b[39m(\u001b[39m*\u001b[39margs, \u001b[39m*\u001b[39m\u001b[39m*\u001b[39mkwargs):\n\u001b[0;32m---> 18\u001b[0m     \u001b[39mreturn\u001b[39;00m dispatcher\u001b[39m.\u001b[39;49mdispatch(args[\u001b[39m1\u001b[39;49m]\u001b[39m.\u001b[39;49m\u001b[39m__class__\u001b[39;49m)(\u001b[39m*\u001b[39;49margs, \u001b[39m*\u001b[39;49m\u001b[39m*\u001b[39;49mkwargs)\n",
      "File \u001b[0;32m~/miniconda/envs/helio_tools/lib/python3.10/site-packages/sunpy/net/fido_factory.py:243\u001b[0m, in \u001b[0;36m_create_and\u001b[0;34m(walker, query, factory)\u001b[0m\n\u001b[1;32m    241\u001b[0m \u001b[39m@query_walker\u001b[39m\u001b[39m.\u001b[39madd_creator(attr\u001b[39m.\u001b[39mAttrAnd)\n\u001b[1;32m    242\u001b[0m \u001b[39mdef\u001b[39;00m \u001b[39m_create_and\u001b[39m(walker, query, factory):\n\u001b[0;32m--> 243\u001b[0m     \u001b[39mreturn\u001b[39;00m factory\u001b[39m.\u001b[39;49m_make_query_to_client(\u001b[39m*\u001b[39;49mquery\u001b[39m.\u001b[39;49mattrs)\n",
      "File \u001b[0;32m~/miniconda/envs/helio_tools/lib/python3.10/site-packages/sunpy/net/fido_factory.py:485\u001b[0m, in \u001b[0;36mUnifiedDownloaderFactory._make_query_to_client\u001b[0;34m(self, *query)\u001b[0m\n\u001b[1;32m    483\u001b[0m     \u001b[39mif\u001b[39;00m \u001b[39misinstance\u001b[39m(tmpclient, vso\u001b[39m.\u001b[39mVSOClient):\n\u001b[1;32m    484\u001b[0m         kwargs \u001b[39m=\u001b[39m \u001b[39mdict\u001b[39m(response_format\u001b[39m=\u001b[39m\u001b[39m\"\u001b[39m\u001b[39mtable\u001b[39m\u001b[39m\"\u001b[39m)\n\u001b[0;32m--> 485\u001b[0m     results\u001b[39m.\u001b[39mappend(tmpclient\u001b[39m.\u001b[39;49msearch(\u001b[39m*\u001b[39;49mquery, \u001b[39m*\u001b[39;49m\u001b[39m*\u001b[39;49mkwargs))\n\u001b[1;32m    487\u001b[0m \u001b[39m# This method is called by `search` and the results are fed into a\u001b[39;00m\n\u001b[1;32m    488\u001b[0m \u001b[39m# UnifiedResponse object.\u001b[39;00m\n\u001b[1;32m    489\u001b[0m \u001b[39mreturn\u001b[39;00m results\n",
      "File \u001b[0;32m~/miniconda/envs/helio_tools/lib/python3.10/site-packages/sunpy_soar/client.py:31\u001b[0m, in \u001b[0;36mSOARClient.search\u001b[0;34m(self, *query, **kwargs)\u001b[0m\n\u001b[1;32m     29\u001b[0m     \u001b[39mif\u001b[39;00m \u001b[39m\"\u001b[39m\u001b[39mprovider=\u001b[39m\u001b[39m'\u001b[39m\u001b[39mSOAR\u001b[39m\u001b[39m'\u001b[39m\u001b[39m\"\u001b[39m \u001b[39min\u001b[39;00m query_parameters:\n\u001b[1;32m     30\u001b[0m         query_parameters\u001b[39m.\u001b[39mremove(\u001b[39m\"\u001b[39m\u001b[39mprovider=\u001b[39m\u001b[39m'\u001b[39m\u001b[39mSOAR\u001b[39m\u001b[39m'\u001b[39m\u001b[39m\"\u001b[39m)\n\u001b[0;32m---> 31\u001b[0m     results\u001b[39m.\u001b[39mappend(\u001b[39mself\u001b[39;49m\u001b[39m.\u001b[39;49m_do_search(query_parameters))\n\u001b[1;32m     32\u001b[0m table \u001b[39m=\u001b[39m astropy\u001b[39m.\u001b[39mtable\u001b[39m.\u001b[39mvstack(results)\n\u001b[1;32m     33\u001b[0m qrt \u001b[39m=\u001b[39m QueryResponseTable(table, client\u001b[39m=\u001b[39m\u001b[39mself\u001b[39m)\n",
      "File \u001b[0;32m~/miniconda/envs/helio_tools/lib/python3.10/site-packages/sunpy_soar/client.py:90\u001b[0m, in \u001b[0;36mSOARClient._do_search\u001b[0;34m(query)\u001b[0m\n\u001b[1;32m     88\u001b[0m r \u001b[39m=\u001b[39m requests\u001b[39m.\u001b[39mget(\u001b[39mf\u001b[39m\u001b[39m'\u001b[39m\u001b[39m{\u001b[39;00mtap_endpoint\u001b[39m}\u001b[39;00m\u001b[39m/sync\u001b[39m\u001b[39m'\u001b[39m, params\u001b[39m=\u001b[39mpayload)\n\u001b[1;32m     89\u001b[0m log\u001b[39m.\u001b[39mdebug(\u001b[39mf\u001b[39m\u001b[39m'\u001b[39m\u001b[39mSent query: \u001b[39m\u001b[39m{\u001b[39;00mr\u001b[39m.\u001b[39murl\u001b[39m}\u001b[39;00m\u001b[39m'\u001b[39m)\n\u001b[0;32m---> 90\u001b[0m r\u001b[39m.\u001b[39;49mraise_for_status()\n\u001b[1;32m     92\u001b[0m \u001b[39m# Do some list/dict wrangling\u001b[39;00m\n\u001b[1;32m     93\u001b[0m names \u001b[39m=\u001b[39m [m[\u001b[39m'\u001b[39m\u001b[39mname\u001b[39m\u001b[39m'\u001b[39m] \u001b[39mfor\u001b[39;00m m \u001b[39min\u001b[39;00m r\u001b[39m.\u001b[39mjson()[\u001b[39m'\u001b[39m\u001b[39mmetadata\u001b[39m\u001b[39m'\u001b[39m]]\n",
      "File \u001b[0;32m~/miniconda/envs/helio_tools/lib/python3.10/site-packages/requests/models.py:1021\u001b[0m, in \u001b[0;36mResponse.raise_for_status\u001b[0;34m(self)\u001b[0m\n\u001b[1;32m   1016\u001b[0m     http_error_msg \u001b[39m=\u001b[39m (\n\u001b[1;32m   1017\u001b[0m         \u001b[39mf\u001b[39m\u001b[39m\"\u001b[39m\u001b[39m{\u001b[39;00m\u001b[39mself\u001b[39m\u001b[39m.\u001b[39mstatus_code\u001b[39m}\u001b[39;00m\u001b[39m Server Error: \u001b[39m\u001b[39m{\u001b[39;00mreason\u001b[39m}\u001b[39;00m\u001b[39m for url: \u001b[39m\u001b[39m{\u001b[39;00m\u001b[39mself\u001b[39m\u001b[39m.\u001b[39murl\u001b[39m}\u001b[39;00m\u001b[39m\"\u001b[39m\n\u001b[1;32m   1018\u001b[0m     )\n\u001b[1;32m   1020\u001b[0m \u001b[39mif\u001b[39;00m http_error_msg:\n\u001b[0;32m-> 1021\u001b[0m     \u001b[39mraise\u001b[39;00m HTTPError(http_error_msg, response\u001b[39m=\u001b[39m\u001b[39mself\u001b[39m)\n",
      "\u001b[0;31mHTTPError\u001b[0m: 408 Client Error:  for url: http://soar.esac.esa.int/soar-sl-tap/tap/sync?REQUEST=doQuery&LANG=ADQL&FORMAT=json&QUERY=SELECT+*+FROM+v_sc_data_item+WHERE+begin_time%3E='2021-02-22+00:00:00'+AND+begin_time%3C='2021-02-23+00:00:00'+AND+instrument='EUI'+AND+descriptor='eui-fsi174-image'+AND+level='L2'"
     ]
    }
   ],
   "source": [
    "download_solo_data(start_date=start_date, end_date=end_date, base_path=base_path)"
   ]
  },
  {
   "cell_type": "code",
   "execution_count": 12,
   "id": "75da6dba-57a3-47ee-bb60-8c81e1524549",
   "metadata": {
    "tags": []
   },
   "outputs": [
    {
     "data": {
      "text/plain": [
       "0"
      ]
     },
     "execution_count": 12,
     "metadata": {},
     "output_type": "execute_result"
    }
   ],
   "source": [
    "from helio_tools._src.utils.io import get_list_filenames\n",
    "\n",
    "ext = \".fits\"\n",
    "\n",
    "data_filenames = get_list_filenames(base_path, ext)\n",
    "len(data_filenames)"
   ]
  },
  {
   "cell_type": "code",
   "execution_count": null,
   "id": "8ae6d346-62a9-4012-9077-19cc0f805ac3",
   "metadata": {},
   "outputs": [],
   "source": []
  }
 ],
 "metadata": {
  "kernelspec": {
   "display_name": "helio_tools",
   "language": "python",
   "name": "python3"
  },
  "language_info": {
   "codemirror_mode": {
    "name": "ipython",
    "version": 3
   },
   "file_extension": ".py",
   "mimetype": "text/x-python",
   "name": "python",
   "nbconvert_exporter": "python",
   "pygments_lexer": "ipython3",
   "version": "3.10.13"
  }
 },
 "nbformat": 4,
 "nbformat_minor": 5
}
