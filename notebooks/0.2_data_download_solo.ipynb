{
 "cells": [
  {
   "cell_type": "markdown",
   "id": "9c9b2b91-e7d0-4ca4-800b-e617e8823eec",
   "metadata": {},
   "source": [
    "# Demo: Data Download SDO"
   ]
  },
  {
   "cell_type": "code",
   "execution_count": 1,
   "id": "87b0d7f7-66aa-4d00-a595-ea34e4fd9b29",
   "metadata": {
    "tags": []
   },
   "outputs": [],
   "source": [
    "import autoroot\n",
    "from typing import Optional, Callable\n",
    "import toolz \n",
    "import functools as ft\n",
    "import numpy as np\n",
    "import pandas as pd\n",
    "import matplotlib.pyplot as plt\n",
    "\n",
    "%matplotlib inline\n"
   ]
  },
  {
   "cell_type": "code",
   "execution_count": 2,
   "id": "d3020752-6a78-4dae-a5e3-8c67e0820a6a",
   "metadata": {
    "tags": []
   },
   "outputs": [
    {
     "name": "stderr",
     "output_type": "stream",
     "text": [
      "/Users/noahkasmanoff/anaconda3/envs/helio_tools/lib/python3.11/site-packages/tqdm/auto.py:21: TqdmWarning: IProgress not found. Please update jupyter and ipywidgets. See https://ipywidgets.readthedocs.io/en/stable/user_install.html\n",
      "  from .autonotebook import tqdm as notebook_tqdm\n"
     ]
    }
   ],
   "source": [
    "import astropy\n",
    "from datetime import timedelta, datetime\n",
    "from dateutil.relativedelta import relativedelta\n",
    "from sunpy.map import Map\n",
    "from sunpy.net import Fido, attrs as a\n"
   ]
  },
  {
   "cell_type": "code",
   "execution_count": 3,
   "id": "6f298f26-33c5-4f99-a06a-5e3568e2ebb4",
   "metadata": {
    "tags": []
   },
   "outputs": [
    {
     "name": "stderr",
     "output_type": "stream",
     "text": [
      "/Users/noahkasmanoff/Desktop/instrument-to-instrument/helio_tools/helio_tools/_src/data/solo/base.py:25: UserWarning: could not determine sunpy_soar package version; this indicates a broken installation\n",
      "  import sunpy_soar\n"
     ]
    }
   ],
   "source": [
    "from helio_tools._src.data.solo.base import SOLODownloader"
   ]
  },
  {
   "cell_type": "code",
   "execution_count": 4,
   "id": "2f3875ac-d1ce-4113-be45-7dd54f42ac1a",
   "metadata": {},
   "outputs": [],
   "source": [
    "\n",
    "import os \n",
    "# make base path a data folder in this repo\n",
    "base_path = os.path.join(os.getcwd(), \"solo_data\")\n",
    "\n",
    "\n",
    "downloader_solo = SOLODownloader(base_path=base_path)\n",
    "start_date = datetime(2021, 2, 22, 0, 0)\n",
    "end_date = datetime(2021, 6, 25, 0, 0)\n",
    "\n"
   ]
  },
  {
   "cell_type": "code",
   "execution_count": 5,
   "id": "3bbf4d40",
   "metadata": {},
   "outputs": [],
   "source": [
    "num_months = (end_date.year - start_date.year) * \\\n",
    "    12 + (end_date.month - start_date.month)\n",
    "month_dates = [start_date + i *\n",
    "                relativedelta(months=1) for i in range(num_months)]\n",
    "for date in month_dates:\n",
    "    search = Fido.search(a.Time(date, date + relativedelta(days=1)),\n",
    "                            a.Instrument('EUI'), a.soar.Product(\n",
    "                                'eui-fsi174-image'),\n",
    "                            a.Level(2))\n",
    "    if search.file_num == 0:\n",
    "        continue\n",
    "    dates = search['soar']['Start time']\n",
    "    dates = pd.to_datetime(dates)\n",
    "    step = int(np.floor(len(dates) / 60)) if len(dates) > 60 else 1\n",
    "\n",
    "    for d in dates[::step]:\n",
    "        downloader_solo.downloadDate(d)\n"
   ]
  },
  {
   "cell_type": "code",
   "execution_count": null,
   "id": "75da6dba-57a3-47ee-bb60-8c81e1524549",
   "metadata": {
    "tags": []
   },
   "outputs": [],
   "source": [
    "from helio_tools._src.utils.io import get_list_filenames\n",
    "\n",
    "ext = \".fits\"\n",
    "\n",
    "data_filenames = get_list_filenames(base_path, ext)\n",
    "len(data_filenames)"
   ]
  },
  {
   "cell_type": "code",
   "execution_count": null,
   "id": "8ae6d346-62a9-4012-9077-19cc0f805ac3",
   "metadata": {},
   "outputs": [],
   "source": []
  }
 ],
 "metadata": {
  "kernelspec": {
   "display_name": "helio_tools",
   "language": "python",
   "name": "python3"
  },
  "language_info": {
   "codemirror_mode": {
    "name": "ipython",
    "version": 3
   },
   "file_extension": ".py",
   "mimetype": "text/x-python",
   "name": "python",
   "nbconvert_exporter": "python",
   "pygments_lexer": "ipython3",
   "version": "3.11.5"
  }
 },
 "nbformat": 4,
 "nbformat_minor": 5
}
