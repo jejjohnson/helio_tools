{
 "cells": [
  {
   "cell_type": "markdown",
   "id": "9c9b2b91-e7d0-4ca4-800b-e617e8823eec",
   "metadata": {},
   "source": [
    "# Demo: Data Download SDO"
   ]
  },
  {
   "cell_type": "code",
   "execution_count": 5,
   "id": "87b0d7f7-66aa-4d00-a595-ea34e4fd9b29",
   "metadata": {
    "tags": []
   },
   "outputs": [
    {
     "name": "stdout",
     "output_type": "stream",
     "text": [
      "The autoreload extension is already loaded. To reload it, use:\n",
      "  %reload_ext autoreload\n"
     ]
    }
   ],
   "source": [
    "import autoroot\n",
    "from typing import Optional, Callable\n",
    "import toolz \n",
    "import functools as ft\n",
    "import numpy as np\n",
    "import matplotlib.pyplot as plt\n",
    "\n",
    "%matplotlib inline\n",
    "%load_ext autoreload\n",
    "%autoreload 2"
   ]
  },
  {
   "cell_type": "code",
   "execution_count": 6,
   "id": "d3020752-6a78-4dae-a5e3-8c67e0820a6a",
   "metadata": {
    "tags": []
   },
   "outputs": [],
   "source": [
    "import astropy\n",
    "from datetime import timedelta, datetime\n",
    "from sunpy.map import Map"
   ]
  },
  {
   "cell_type": "code",
   "execution_count": 7,
   "id": "6f298f26-33c5-4f99-a06a-5e3568e2ebb4",
   "metadata": {
    "tags": []
   },
   "outputs": [],
   "source": [
    "from helio_tools._src.data.soho.base import SDODownloader"
   ]
  },
  {
   "cell_type": "code",
   "execution_count": 8,
   "id": "2f3875ac-d1ce-4113-be45-7dd54f42ac1a",
   "metadata": {},
   "outputs": [],
   "source": [
    "email = \"chri.schirni@hotmail.de\"\n",
    "base_path = \"/home/juanjohn/data/helio/sdo\"\n",
    "downloader_sdo = SDODownloader(base_path=base_path, email=email, n_workers=8)\n",
    "\n",
    "start_date = datetime(2022, 3, 1)\n",
    "end_date = datetime(2023, 3, 2)\n"
   ]
  },
  {
   "cell_type": "code",
   "execution_count": 9,
   "id": "bf0efcd5-21bf-4972-a6a4-8c721fc39ef5",
   "metadata": {},
   "outputs": [],
   "source": [
    "# for d in [start_date + i * timedelta(hours=12) for i in \n",
    "#           range((end_date - start_date) // timedelta(hours=12))]:\n",
    "#     downloader_sdo.downloadDate(d)"
   ]
  },
  {
   "cell_type": "markdown",
   "id": "306574b7-8fd8-49b7-a650-576293a8e546",
   "metadata": {
    "jp-MarkdownHeadingCollapsed": true,
    "tags": []
   },
   "source": [
    "\n",
    "```python\n",
    "email = \"chri.schirni@hotmail.de\"\n",
    "base_path = \"/Users/eman/code_projects/data/iti/helio\"\n",
    "downloader_sdo = SDODownloader(base_path=base_path, email=email, n_workers=4)\n",
    "start_date = datetime(2022, 3, 1)\n",
    "end_date = datetime(2023, 3, 2)\n",
    "\n",
    "for d in [start_date + i * timedelta(hours=12) for i in \n",
    "          range((end_date - start_date) // timedelta(hours=12))]:\n",
    "    downloader_sdo.downloadDate(d)\n",
    "```"
   ]
  },
  {
   "cell_type": "code",
   "execution_count": 11,
   "id": "75da6dba-57a3-47ee-bb60-8c81e1524549",
   "metadata": {
    "tags": []
   },
   "outputs": [
    {
     "data": {
      "text/plain": [
       "2695"
      ]
     },
     "execution_count": 11,
     "metadata": {},
     "output_type": "execute_result"
    }
   ],
   "source": [
    "from helio_tools._src.utils.io import get_list_filenames\n",
    "\n",
    "ext = \".fits\"\n",
    "\n",
    "data_filenames = get_list_filenames(base_path, ext)\n",
    "len(data_filenames)"
   ]
  },
  {
   "cell_type": "code",
   "execution_count": null,
   "id": "8ae6d346-62a9-4012-9077-19cc0f805ac3",
   "metadata": {},
   "outputs": [],
   "source": []
  }
 ],
 "metadata": {
  "kernelspec": {
   "display_name": "Python [conda env:helio_tools]",
   "language": "python",
   "name": "conda-env-helio_tools-py"
  },
  "language_info": {
   "codemirror_mode": {
    "name": "ipython",
    "version": 3
   },
   "file_extension": ".py",
   "mimetype": "text/x-python",
   "name": "python",
   "nbconvert_exporter": "python",
   "pygments_lexer": "ipython3",
   "version": "3.11.6"
  }
 },
 "nbformat": 4,
 "nbformat_minor": 5
}
